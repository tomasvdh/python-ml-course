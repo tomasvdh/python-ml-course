{
 "cells": [
  {
   "cell_type": "markdown",
   "id": "d967d1db",
   "metadata": {},
   "source": [
    "# Funciones de distribución de probabilidades"
   ]
  },
  {
   "cell_type": "markdown",
   "id": "ec6ec349",
   "metadata": {},
   "source": [
    "### Distribución uniforme"
   ]
  },
  {
   "cell_type": "code",
   "execution_count": 3,
   "id": "b5c26a2e",
   "metadata": {},
   "outputs": [],
   "source": [
    "import numpy as np\n",
    "import matplotlib.pyplot as plt"
   ]
  },
  {
   "cell_type": "code",
   "execution_count": 13,
   "id": "b827a857",
   "metadata": {},
   "outputs": [],
   "source": [
    "a = 1\n",
    "b = 100\n",
    "n = 1000000\n",
    "data = np.random.uniform(a,b,n)"
   ]
  },
  {
   "cell_type": "code",
   "execution_count": 14,
   "id": "2a950b9f",
   "metadata": {},
   "outputs": [
    {
     "data": {
      "text/plain": [
       "(array([100483.,  99989., 100192., 100173.,  99765.,  99754.,  98985.,\n",
       "        100410., 100176., 100073.]),\n",
       " array([ 1.00003561, 10.90002083, 20.80000606, 30.69999128, 40.59997651,\n",
       "        50.49996173, 60.39994696, 70.29993218, 80.19991741, 90.09990263,\n",
       "        99.99988786]),\n",
       " <BarContainer object of 10 artists>)"
      ]
     },
     "execution_count": 14,
     "metadata": {},
     "output_type": "execute_result"
    },
    {
     "data": {
      "image/png": "[encoded data removed]",
      "text/plain": [
       "<Figure size 432x288 with 1 Axes>"
      ]
     },
     "metadata": {
      "needs_background": "light"
     },
     "output_type": "display_data"
    }
   ],
   "source": [
    "%matplotlib inline\n",
    "plt.hist(data)"
   ]
  },
  {
   "cell_type": "code",
   "execution_count": null,
   "id": "36fb3c67",
   "metadata": {},
   "outputs": [],
   "source": []
  }
 ],
 "metadata": {
  "kernelspec": {
   "display_name": "Python 3 (ipykernel)",
   "language": "python",
   "name": "python3"
  },
  "language_info": {
   "codemirror_mode": {
    "name": "ipython",
    "version": 3
   },
   "file_extension": ".py",
   "mimetype": "text/x-python",
   "name": "python",
   "nbconvert_exporter": "python",
   "pygments_lexer": "ipython3",
   "version": "3.9.7"
  }
 },
 "nbformat": 4,
 "nbformat_minor": 5
}
